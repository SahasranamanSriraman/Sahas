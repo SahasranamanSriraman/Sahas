{
  "nbformat": 4,
  "nbformat_minor": 0,
  "metadata": {
    "colab": {
      "name": "ineuron exception assignment",
      "provenance": []
    },
    "kernelspec": {
      "name": "python3",
      "display_name": "Python 3"
    },
    "language_info": {
      "name": "python"
    }
  },
  "cells": [
    {
      "cell_type": "markdown",
      "source": [
        "Write a function to compute 5/0 and use try/except to catch the exceptions."
      ],
      "metadata": {
        "id": "XxE61YC9FU_G"
      }
    },
    {
      "cell_type": "code",
      "execution_count": 11,
      "metadata": {
        "colab": {
          "base_uri": "https://localhost:8080/"
        },
        "id": "gg6KfPqHFUF1",
        "outputId": "e2b33845-aeef-4b31-9c89-3ccaa19d6772"
      },
      "outputs": [
        {
          "name": "stdout",
          "output_type": "stream",
          "text": [
            "Enter the numerator1\n",
            "Enter the denominator0\n",
            "denominator should not be zero\n",
            "Enter the numerator2\n",
            "Enter the denominator0\n",
            "denominator should not be zero\n",
            "Enter the numerator4\n",
            "Enter the denominator0\n",
            "denominator should not be zero\n",
            "Enter the numerator2\n",
            "Enter the denominator4\n"
          ]
        },
        {
          "output_type": "execute_result",
          "data": {
            "text/plain": [
              "0.5"
            ]
          },
          "metadata": {},
          "execution_count": 11
        }
      ],
      "source": [
        "def divide():\n",
        "  while True:\n",
        "    num = int(input(' Enter the numerator '))\n",
        "    den = int(input(' Enter the denominator '))\n",
        "    try:\n",
        "      answer = num/den\n",
        "      return answer\n",
        "    except Exception as e:\n",
        "      print('denominator should not be zero')\n",
        "divide()"
      ]
    },
    {
      "cell_type": "markdown",
      "source": [
        "2. Implement a Python program to generate all sentences where subject is in\n",
        "[\"Americans\", \"Indians\"] and verb is in [\"Play\", \"watch\"] and the object is in\n",
        "[\"Baseball\",\"cricket\"]."
      ],
      "metadata": {
        "id": "KSO-MnyXGQwI"
      }
    },
    {
      "cell_type": "code",
      "source": [
        "subjects=[\"Americans \",\"Indians\"]\n",
        "verbs=[\"play\",\"watch\"]\n",
        "objects=[\"Baseball\",\"Cricket\"]\n",
        "\n",
        "def sentences():\n",
        "  for i in subjects:\n",
        "    for j in verbs:\n",
        "      for k in objects:\n",
        "        print(i +' '+j+' ',k)\n",
        "\n",
        "sentences()\n"
      ],
      "metadata": {
        "colab": {
          "base_uri": "https://localhost:8080/"
        },
        "id": "cEwLYim1GQXw",
        "outputId": "8cab3d90-1186-406d-8ec1-5ffa362c7ae2"
      },
      "execution_count": 16,
      "outputs": [
        {
          "output_type": "stream",
          "name": "stdout",
          "text": [
            "Americans  play  Baseball\n",
            "Americans  play  Cricket\n",
            "Americans  watch  Baseball\n",
            "Americans  watch  Cricket\n",
            "Indians play  Baseball\n",
            "Indians play  Cricket\n",
            "Indians watch  Baseball\n",
            "Indians watch  Cricket\n"
          ]
        }
      ]
    }
  ]
}